{
 "cells": [
  {
   "cell_type": "code",
   "execution_count": 1,
   "id": "39477920-da02-4d7e-a83d-52987e1da708",
   "metadata": {},
   "outputs": [],
   "source": [
    "import pandas as pd\n",
    "import json"
   ]
  },
  {
   "cell_type": "code",
   "execution_count": 2,
   "id": "75b803f1-9486-49e5-8ba1-9ed0c8bfc702",
   "metadata": {},
   "outputs": [],
   "source": [
    "with open(\"/Users/aryopg/Downloads/test_prediction_df.table (2).json\") as f:\n",
    "    data = json.load(f)"
   ]
  },
  {
   "cell_type": "code",
   "execution_count": 3,
   "id": "a1ffab82-1142-4b80-af3d-7e7375b3ad3a",
   "metadata": {},
   "outputs": [],
   "source": [
    "df = pd.DataFrame(data[\"data\"], columns=data[\"columns\"])"
   ]
  },
  {
   "cell_type": "code",
   "execution_count": 5,
   "id": "68756abf-ce11-409f-8664-ea156824b232",
   "metadata": {},
   "outputs": [],
   "source": [
    "test_scores = [scores[0] for scores in df[\"prediction_scores\"].tolist()]"
   ]
  },
  {
   "cell_type": "code",
   "execution_count": 9,
   "id": "341a3a6f-117e-46a1-9b0b-dedf68b4aa99",
   "metadata": {},
   "outputs": [],
   "source": [
    "test_score_predictions = {}\n",
    "for idx, score in zip(df.id.tolist(), test_scores):\n",
    "    test_score_predictions[idx] = score"
   ]
  },
  {
   "cell_type": "code",
   "execution_count": 11,
   "id": "e035412f-6196-4004-a05a-9b6b9a5fe88a",
   "metadata": {},
   "outputs": [],
   "source": [
    "with open(\"test_scores.json\", \"w\") as f:\n",
    "    json.dump(test_score_predictions, f)"
   ]
  },
  {
   "cell_type": "code",
   "execution_count": null,
   "id": "39b367ab-7e10-4fe3-ad64-526aa5d8d2bf",
   "metadata": {},
   "outputs": [],
   "source": []
  }
 ],
 "metadata": {
  "kernelspec": {
   "display_name": "semeval_nli4ct",
   "language": "python",
   "name": "semeval_nli4ct"
  },
  "language_info": {
   "codemirror_mode": {
    "name": "ipython",
    "version": 3
   },
   "file_extension": ".py",
   "mimetype": "text/x-python",
   "name": "python",
   "nbconvert_exporter": "python",
   "pygments_lexer": "ipython3",
   "version": "3.10.13"
  }
 },
 "nbformat": 4,
 "nbformat_minor": 5
}
